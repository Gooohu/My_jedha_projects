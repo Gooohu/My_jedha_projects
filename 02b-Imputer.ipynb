{
  "cells": [
    {
      "cell_type": "markdown",
      "metadata": {
        "id": "6cqYL_Y0rfoH",
        "colab_type": "text"
      },
      "source": [
        "# Imputer"
      ]
    },
    {
      "cell_type": "markdown",
      "metadata": {
        "id": "sB61JRG-rj6v",
        "colab_type": "text"
      },
      "source": [
        "_In data science, it's common for there to be missing values in a dataset. Let's see how we can create a class that will allow us to replace this missing value by the average of the values in the list_"
      ]
    },
    {
      "cell_type": "markdown",
      "metadata": {
        "id": "nvclKDGOrlV3",
        "colab_type": "text"
      },
      "source": [
        "1. _Create a class that we will call Imputer_.\n",
        "2. _To simplify the exercise, we will only deal with lists for the moment._\n",
        "3. _Our class will take an attribute that we will call list_.\n",
        "4. _Create an avg() function that will first remove the missing value and then replace it with the average of the list._"
      ]
    },
    {
      "cell_type": "code",
      "metadata": {
        "id": "4agC-7RLrQSp",
        "colab_type": "code",
        "outputId": "c98a0475-d2f7-4e53-e3b3-e45b2c1874ff",
        "colab": {
          "base_uri": "https://localhost:8080/",
          "height": 52
        }
      },
      "source": [],
      "execution_count": 1,
      "outputs": [
        {
          "output_type": "stream",
          "name": "stdout",
          "text": "Here's my initial list [None, 2, 4, 6, None]\nHere is my list after imputer : [4.0, 2, 4, 6, 4.0]\n"
        }
      ]
    },
    {
      "cell_type": "markdown",
      "metadata": {
        "id": "bc7K3aMYr9uH",
        "colab_type": "text"
      },
      "source": [
        "# OPTIONAL - Improve Imputer\n",
        "\n",
        "_We have created our Imputer class which works very well for replacing missing values with averages. But, couldn't we also use this class to replace with a median? Try to add a method in Imputer that will allow us to replace the list with either the average or the median._"
      ]
    },
    {
      "cell_type": "code",
      "metadata": {
        "id": "vWlNZ5nDrqPa",
        "colab_type": "code",
        "outputId": "b80570c6-7d61-4ee6-8da0-deefadcf6f3e",
        "colab": {
          "base_uri": "https://localhost:8080/",
          "height": 86
        }
      },
      "source": [],
      "execution_count": 2,
      "outputs": [
        {
          "output_type": "stream",
          "name": "stdout",
          "text": "Here is a list : [None, 2, 3, 12, 5, 6, None]\nHere is the list with the empty values replaced by the average value : [5.6, 2, 3, 12, 5, 6, 5.6]\nHere is a list : [None, 2, 3, 12, 5, 6, None]\nHere is the list with the empty values replaced by the median : [5, 2, 3, 12, 5, 6, 5]\n"
        }
      ]
    }
  ],
  "metadata": {
    "colab": {
      "name": "Imputer - Exercice S1-3.ipynb",
      "version": "0.3.2",
      "provenance": [],
      "collapsed_sections": []
    },
    "kernelspec": {
      "name": "python3",
      "display_name": "Python 3"
    }
  },
  "nbformat": 4,
  "nbformat_minor": 0
}