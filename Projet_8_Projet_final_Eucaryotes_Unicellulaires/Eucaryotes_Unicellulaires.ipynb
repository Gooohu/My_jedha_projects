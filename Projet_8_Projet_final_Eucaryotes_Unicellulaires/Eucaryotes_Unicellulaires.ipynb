{
 "cells": [
  {
   "cell_type": "code",
   "execution_count": 1,
   "id": "36662768-8936-43be-a71d-8588516550cf",
   "metadata": {},
   "outputs": [],
   "source": [
    "import pandas as pd"
   ]
  },
  {
   "cell_type": "code",
   "execution_count": 2,
   "id": "f9b52381-5b86-43fc-bc3c-a0064f198cdb",
   "metadata": {},
   "outputs": [
    {
     "data": {
      "text/plain": [
       "'\\n#On inverse les colonnes et les lignes pour joindre la target au dataset\\ndf = pd.read_csv(\"abundance_matrix_80_85.RED.csv\")\\ndf_transposed = df.T\\nprint(df_transposed.head())\\n\\n'"
      ]
     },
     "execution_count": 2,
     "metadata": {},
     "output_type": "execute_result"
    }
   ],
   "source": [
    "\"\"\"\n",
    "#On inverse les colonnes et les lignes pour joindre la target au dataset\n",
    "df = pd.read_csv(\"abundance_matrix_80_85.RED.csv\")\n",
    "df_transposed = df.T\n",
    "print(df_transposed.head())\n",
    "\n",
    "\"\"\""
   ]
  },
  {
   "cell_type": "code",
   "execution_count": null,
   "id": "0b44d2f8-bdd3-4cf4-85e3-145224da8ae5",
   "metadata": {},
   "outputs": [],
   "source": []
  },
  {
   "cell_type": "code",
   "execution_count": 3,
   "id": "a19f741a-d1cb-4fad-ab0f-e4f40ef8bbca",
   "metadata": {},
   "outputs": [],
   "source": [
    "df_80_85 = pd.read_csv(\"abundance_matrix_80_85.RED.csv\")"
   ]
  },
  {
   "cell_type": "code",
   "execution_count": 4,
   "id": "0ee6b96e-b057-4b74-8067-5eb0cfd53280",
   "metadata": {},
   "outputs": [],
   "source": [
    "#del df_80_85"
   ]
  },
  {
   "cell_type": "code",
   "execution_count": null,
   "id": "0e779693-b810-4350-9860-b8bcac17cf45",
   "metadata": {},
   "outputs": [],
   "source": []
  },
  {
   "cell_type": "code",
   "execution_count": null,
   "id": "9561d2ae-3f41-42b8-bda2-b32131381cf5",
   "metadata": {},
   "outputs": [],
   "source": []
  },
  {
   "cell_type": "code",
   "execution_count": 5,
   "id": "c5b6e437-d8d2-46a5-865e-3c0ecc5af4b4",
   "metadata": {},
   "outputs": [],
   "source": [
    "df_metb_full = pd.read_csv(\"metdb_full_count_transcript_final_labelOK.csv\")"
   ]
  },
  {
   "cell_type": "code",
   "execution_count": null,
   "id": "f329aaa4-0c43-452d-9d7a-83cada20fe45",
   "metadata": {},
   "outputs": [],
   "source": []
  },
  {
   "cell_type": "code",
   "execution_count": 6,
   "id": "9c4a7f5e-181d-4604-af20-a37e7cb22c8d",
   "metadata": {},
   "outputs": [
    {
     "data": {
      "text/plain": [
       "CC             object\n",
       "METDB-00001     int64\n",
       "METDB-00002     int64\n",
       "METDB-00003     int64\n",
       "METDB-00004     int64\n",
       "                ...  \n",
       "METDB-00481     int64\n",
       "METDB-00482     int64\n",
       "METDB-00483     int64\n",
       "METDB-00484     int64\n",
       "METDB-00486     int64\n",
       "Length: 456, dtype: object"
      ]
     },
     "execution_count": 6,
     "metadata": {},
     "output_type": "execute_result"
    }
   ],
   "source": [
    "df_80_85.dtypes"
   ]
  },
  {
   "cell_type": "code",
   "execution_count": 7,
   "id": "41370f39-3e4e-4859-b816-ae723a0a839c",
   "metadata": {},
   "outputs": [],
   "source": [
    "CC_80_85 = df_80_85[\"CC\"] #On charge tous les CC dans une variable, afin de pouvoir identifier les colonnes sélectionnées par notre modèle, après .fit, avec .coef_"
   ]
  },
  {
   "cell_type": "code",
   "execution_count": 8,
   "id": "2446ba8d-b3fc-485b-9fe9-821c9eeb0c0e",
   "metadata": {},
   "outputs": [
    {
     "data": {
      "text/plain": [
       "(1016112,)"
      ]
     },
     "execution_count": 8,
     "metadata": {},
     "output_type": "execute_result"
    }
   ],
   "source": [
    "CC_80_85.shape"
   ]
  },
  {
   "cell_type": "code",
   "execution_count": 9,
   "id": "cd15a027-c471-4a60-b8f0-5e761d378448",
   "metadata": {},
   "outputs": [],
   "source": [
    "df_80_85.index = df_80_85[\"CC\"]\n",
    "df_80_85.drop(\"CC\", axis=1, inplace = True)"
   ]
  },
  {
   "cell_type": "code",
   "execution_count": null,
   "id": "41071697-da03-44ab-8f40-b17a12cf80cd",
   "metadata": {},
   "outputs": [],
   "source": []
  },
  {
   "cell_type": "code",
   "execution_count": 10,
   "id": "457864f8-e7e7-4b3d-b4f9-43f86e7a3f6f",
   "metadata": {},
   "outputs": [
    {
     "data": {
      "text/html": [
       "<div>\n",
       "<style scoped>\n",
       "    .dataframe tbody tr th:only-of-type {\n",
       "        vertical-align: middle;\n",
       "    }\n",
       "\n",
       "    .dataframe tbody tr th {\n",
       "        vertical-align: top;\n",
       "    }\n",
       "\n",
       "    .dataframe thead th {\n",
       "        text-align: right;\n",
       "    }\n",
       "</style>\n",
       "<table border=\"1\" class=\"dataframe\">\n",
       "  <thead>\n",
       "    <tr style=\"text-align: right;\">\n",
       "      <th></th>\n",
       "      <th>METDB-00001</th>\n",
       "      <th>METDB-00002</th>\n",
       "      <th>METDB-00003</th>\n",
       "      <th>METDB-00004</th>\n",
       "      <th>METDB-00005</th>\n",
       "      <th>METDB-00006</th>\n",
       "      <th>METDB-00007</th>\n",
       "      <th>METDB-00008</th>\n",
       "      <th>METDB-00009</th>\n",
       "      <th>METDB-00010</th>\n",
       "      <th>...</th>\n",
       "      <th>METDB-00476</th>\n",
       "      <th>METDB-00477</th>\n",
       "      <th>METDB-00478</th>\n",
       "      <th>METDB-00479</th>\n",
       "      <th>METDB-00480</th>\n",
       "      <th>METDB-00481</th>\n",
       "      <th>METDB-00482</th>\n",
       "      <th>METDB-00483</th>\n",
       "      <th>METDB-00484</th>\n",
       "      <th>METDB-00486</th>\n",
       "    </tr>\n",
       "    <tr>\n",
       "      <th>CC</th>\n",
       "      <th></th>\n",
       "      <th></th>\n",
       "      <th></th>\n",
       "      <th></th>\n",
       "      <th></th>\n",
       "      <th></th>\n",
       "      <th></th>\n",
       "      <th></th>\n",
       "      <th></th>\n",
       "      <th></th>\n",
       "      <th></th>\n",
       "      <th></th>\n",
       "      <th></th>\n",
       "      <th></th>\n",
       "      <th></th>\n",
       "      <th></th>\n",
       "      <th></th>\n",
       "      <th></th>\n",
       "      <th></th>\n",
       "      <th></th>\n",
       "      <th></th>\n",
       "    </tr>\n",
       "  </thead>\n",
       "  <tbody>\n",
       "    <tr>\n",
       "      <th>CC_0</th>\n",
       "      <td>1</td>\n",
       "      <td>0</td>\n",
       "      <td>0</td>\n",
       "      <td>0</td>\n",
       "      <td>0</td>\n",
       "      <td>0</td>\n",
       "      <td>0</td>\n",
       "      <td>0</td>\n",
       "      <td>0</td>\n",
       "      <td>0</td>\n",
       "      <td>...</td>\n",
       "      <td>0</td>\n",
       "      <td>0</td>\n",
       "      <td>0</td>\n",
       "      <td>0</td>\n",
       "      <td>0</td>\n",
       "      <td>0</td>\n",
       "      <td>0</td>\n",
       "      <td>0</td>\n",
       "      <td>0</td>\n",
       "      <td>0</td>\n",
       "    </tr>\n",
       "    <tr>\n",
       "      <th>CC_1</th>\n",
       "      <td>1</td>\n",
       "      <td>0</td>\n",
       "      <td>0</td>\n",
       "      <td>0</td>\n",
       "      <td>1</td>\n",
       "      <td>0</td>\n",
       "      <td>0</td>\n",
       "      <td>0</td>\n",
       "      <td>0</td>\n",
       "      <td>0</td>\n",
       "      <td>...</td>\n",
       "      <td>0</td>\n",
       "      <td>0</td>\n",
       "      <td>0</td>\n",
       "      <td>0</td>\n",
       "      <td>0</td>\n",
       "      <td>0</td>\n",
       "      <td>0</td>\n",
       "      <td>1</td>\n",
       "      <td>0</td>\n",
       "      <td>0</td>\n",
       "    </tr>\n",
       "    <tr>\n",
       "      <th>CC_2</th>\n",
       "      <td>3</td>\n",
       "      <td>0</td>\n",
       "      <td>0</td>\n",
       "      <td>0</td>\n",
       "      <td>0</td>\n",
       "      <td>0</td>\n",
       "      <td>0</td>\n",
       "      <td>0</td>\n",
       "      <td>0</td>\n",
       "      <td>0</td>\n",
       "      <td>...</td>\n",
       "      <td>0</td>\n",
       "      <td>0</td>\n",
       "      <td>0</td>\n",
       "      <td>0</td>\n",
       "      <td>0</td>\n",
       "      <td>0</td>\n",
       "      <td>0</td>\n",
       "      <td>0</td>\n",
       "      <td>0</td>\n",
       "      <td>0</td>\n",
       "    </tr>\n",
       "    <tr>\n",
       "      <th>CC_3</th>\n",
       "      <td>1</td>\n",
       "      <td>0</td>\n",
       "      <td>0</td>\n",
       "      <td>0</td>\n",
       "      <td>0</td>\n",
       "      <td>0</td>\n",
       "      <td>0</td>\n",
       "      <td>0</td>\n",
       "      <td>0</td>\n",
       "      <td>0</td>\n",
       "      <td>...</td>\n",
       "      <td>0</td>\n",
       "      <td>0</td>\n",
       "      <td>0</td>\n",
       "      <td>0</td>\n",
       "      <td>0</td>\n",
       "      <td>0</td>\n",
       "      <td>0</td>\n",
       "      <td>0</td>\n",
       "      <td>0</td>\n",
       "      <td>0</td>\n",
       "    </tr>\n",
       "    <tr>\n",
       "      <th>CC_4</th>\n",
       "      <td>1</td>\n",
       "      <td>0</td>\n",
       "      <td>0</td>\n",
       "      <td>0</td>\n",
       "      <td>0</td>\n",
       "      <td>1</td>\n",
       "      <td>0</td>\n",
       "      <td>0</td>\n",
       "      <td>0</td>\n",
       "      <td>0</td>\n",
       "      <td>...</td>\n",
       "      <td>2</td>\n",
       "      <td>0</td>\n",
       "      <td>0</td>\n",
       "      <td>0</td>\n",
       "      <td>0</td>\n",
       "      <td>0</td>\n",
       "      <td>0</td>\n",
       "      <td>0</td>\n",
       "      <td>0</td>\n",
       "      <td>0</td>\n",
       "    </tr>\n",
       "  </tbody>\n",
       "</table>\n",
       "<p>5 rows × 455 columns</p>\n",
       "</div>"
      ],
      "text/plain": [
       "      METDB-00001  METDB-00002  METDB-00003  METDB-00004  METDB-00005  \\\n",
       "CC                                                                      \n",
       "CC_0            1            0            0            0            0   \n",
       "CC_1            1            0            0            0            1   \n",
       "CC_2            3            0            0            0            0   \n",
       "CC_3            1            0            0            0            0   \n",
       "CC_4            1            0            0            0            0   \n",
       "\n",
       "      METDB-00006  METDB-00007  METDB-00008  METDB-00009  METDB-00010  ...  \\\n",
       "CC                                                                     ...   \n",
       "CC_0            0            0            0            0            0  ...   \n",
       "CC_1            0            0            0            0            0  ...   \n",
       "CC_2            0            0            0            0            0  ...   \n",
       "CC_3            0            0            0            0            0  ...   \n",
       "CC_4            1            0            0            0            0  ...   \n",
       "\n",
       "      METDB-00476  METDB-00477  METDB-00478  METDB-00479  METDB-00480  \\\n",
       "CC                                                                      \n",
       "CC_0            0            0            0            0            0   \n",
       "CC_1            0            0            0            0            0   \n",
       "CC_2            0            0            0            0            0   \n",
       "CC_3            0            0            0            0            0   \n",
       "CC_4            2            0            0            0            0   \n",
       "\n",
       "      METDB-00481  METDB-00482  METDB-00483  METDB-00484  METDB-00486  \n",
       "CC                                                                     \n",
       "CC_0            0            0            0            0            0  \n",
       "CC_1            0            0            1            0            0  \n",
       "CC_2            0            0            0            0            0  \n",
       "CC_3            0            0            0            0            0  \n",
       "CC_4            0            0            0            0            0  \n",
       "\n",
       "[5 rows x 455 columns]"
      ]
     },
     "execution_count": 10,
     "metadata": {},
     "output_type": "execute_result"
    }
   ],
   "source": [
    "df_80_85.head()"
   ]
  },
  {
   "cell_type": "code",
   "execution_count": null,
   "id": "4dabb1a5-220b-4f18-b1df-dd05fe904ae7",
   "metadata": {},
   "outputs": [],
   "source": []
  },
  {
   "cell_type": "code",
   "execution_count": 11,
   "id": "a2c604de-bebd-4d85-a8e0-6ffe35abdd61",
   "metadata": {},
   "outputs": [],
   "source": [
    "df_metdb_target = pd.read_csv(\"metdb_target_labelOK.csv\", sep = \";\", header=None)"
   ]
  },
  {
   "cell_type": "code",
   "execution_count": 12,
   "id": "6ad54769-d842-46f4-a5b3-1f11f85a47c7",
   "metadata": {},
   "outputs": [
    {
     "data": {
      "text/html": [
       "<div>\n",
       "<style scoped>\n",
       "    .dataframe tbody tr th:only-of-type {\n",
       "        vertical-align: middle;\n",
       "    }\n",
       "\n",
       "    .dataframe tbody tr th {\n",
       "        vertical-align: top;\n",
       "    }\n",
       "\n",
       "    .dataframe thead th {\n",
       "        text-align: right;\n",
       "    }\n",
       "</style>\n",
       "<table border=\"1\" class=\"dataframe\">\n",
       "  <thead>\n",
       "    <tr style=\"text-align: right;\">\n",
       "      <th></th>\n",
       "      <th>0</th>\n",
       "      <th>1</th>\n",
       "    </tr>\n",
       "  </thead>\n",
       "  <tbody>\n",
       "    <tr>\n",
       "      <th>0</th>\n",
       "      <td>1_Metdb_ID</td>\n",
       "      <td>Trophie</td>\n",
       "    </tr>\n",
       "    <tr>\n",
       "      <th>1</th>\n",
       "      <td>METDB-00001</td>\n",
       "      <td>hétérotrophe</td>\n",
       "    </tr>\n",
       "    <tr>\n",
       "      <th>2</th>\n",
       "      <td>METDB-00002</td>\n",
       "      <td>CM</td>\n",
       "    </tr>\n",
       "    <tr>\n",
       "      <th>3</th>\n",
       "      <td>METDB-00003</td>\n",
       "      <td>CM</td>\n",
       "    </tr>\n",
       "    <tr>\n",
       "      <th>4</th>\n",
       "      <td>METDB-00004</td>\n",
       "      <td>CM</td>\n",
       "    </tr>\n",
       "  </tbody>\n",
       "</table>\n",
       "</div>"
      ],
      "text/plain": [
       "             0             1\n",
       "0   1_Metdb_ID       Trophie\n",
       "1  METDB-00001  hétérotrophe\n",
       "2  METDB-00002            CM\n",
       "3  METDB-00003            CM\n",
       "4  METDB-00004            CM"
      ]
     },
     "execution_count": 12,
     "metadata": {},
     "output_type": "execute_result"
    }
   ],
   "source": [
    "df_metdb_target.head()"
   ]
  },
  {
   "cell_type": "code",
   "execution_count": 13,
   "id": "9e11b5a4-51f3-49d0-8f3c-b5867fc68c33",
   "metadata": {},
   "outputs": [],
   "source": [
    "df_metdb_target[0] = df_metdb_target[0].drop_duplicates()"
   ]
  },
  {
   "cell_type": "code",
   "execution_count": 14,
   "id": "48a68a64-e30d-4c67-9ed7-ced42c8c8902",
   "metadata": {},
   "outputs": [
    {
     "data": {
      "text/plain": [
       "460"
      ]
     },
     "execution_count": 14,
     "metadata": {},
     "output_type": "execute_result"
    }
   ],
   "source": [
    "len(df_metdb_target[0].unique())"
   ]
  },
  {
   "cell_type": "code",
   "execution_count": null,
   "id": "d6f1d54a-3121-4a4c-ab04-7809fc4fa89f",
   "metadata": {},
   "outputs": [],
   "source": []
  },
  {
   "cell_type": "code",
   "execution_count": 15,
   "id": "4fd10811-096a-4d3c-b21e-3d0510aabfbf",
   "metadata": {},
   "outputs": [],
   "source": [
    "mask = df_metdb_target[0].apply(lambda x : x in df_80_85.columns)"
   ]
  },
  {
   "cell_type": "code",
   "execution_count": 16,
   "id": "ce41adad-b86d-46c1-8a1a-3d7df101cdca",
   "metadata": {},
   "outputs": [
    {
     "data": {
      "text/plain": [
       "True     455\n",
       "False      9\n",
       "Name: 0, dtype: int64"
      ]
     },
     "execution_count": 16,
     "metadata": {},
     "output_type": "execute_result"
    }
   ],
   "source": [
    "mask.value_counts()"
   ]
  },
  {
   "cell_type": "code",
   "execution_count": null,
   "id": "152f2e8b-f1e3-4efa-b37b-39b3c8493a11",
   "metadata": {},
   "outputs": [],
   "source": []
  },
  {
   "cell_type": "code",
   "execution_count": 17,
   "id": "33f61a9f-c632-42df-9931-4250f59524b5",
   "metadata": {},
   "outputs": [],
   "source": [
    "df_metdb_target456 = df_metdb_target.loc[mask]"
   ]
  },
  {
   "cell_type": "code",
   "execution_count": 18,
   "id": "16faebcd-3564-4b2e-8a7c-3b064f5f2166",
   "metadata": {},
   "outputs": [
    {
     "data": {
      "text/html": [
       "<div>\n",
       "<style scoped>\n",
       "    .dataframe tbody tr th:only-of-type {\n",
       "        vertical-align: middle;\n",
       "    }\n",
       "\n",
       "    .dataframe tbody tr th {\n",
       "        vertical-align: top;\n",
       "    }\n",
       "\n",
       "    .dataframe thead th {\n",
       "        text-align: right;\n",
       "    }\n",
       "</style>\n",
       "<table border=\"1\" class=\"dataframe\">\n",
       "  <thead>\n",
       "    <tr style=\"text-align: right;\">\n",
       "      <th></th>\n",
       "      <th>0</th>\n",
       "      <th>1</th>\n",
       "    </tr>\n",
       "  </thead>\n",
       "  <tbody>\n",
       "    <tr>\n",
       "      <th>1</th>\n",
       "      <td>METDB-00001</td>\n",
       "      <td>hétérotrophe</td>\n",
       "    </tr>\n",
       "    <tr>\n",
       "      <th>2</th>\n",
       "      <td>METDB-00002</td>\n",
       "      <td>CM</td>\n",
       "    </tr>\n",
       "    <tr>\n",
       "      <th>3</th>\n",
       "      <td>METDB-00003</td>\n",
       "      <td>CM</td>\n",
       "    </tr>\n",
       "    <tr>\n",
       "      <th>4</th>\n",
       "      <td>METDB-00004</td>\n",
       "      <td>CM</td>\n",
       "    </tr>\n",
       "    <tr>\n",
       "      <th>5</th>\n",
       "      <td>METDB-00005</td>\n",
       "      <td>CM</td>\n",
       "    </tr>\n",
       "  </tbody>\n",
       "</table>\n",
       "</div>"
      ],
      "text/plain": [
       "             0             1\n",
       "1  METDB-00001  hétérotrophe\n",
       "2  METDB-00002            CM\n",
       "3  METDB-00003            CM\n",
       "4  METDB-00004            CM\n",
       "5  METDB-00005            CM"
      ]
     },
     "execution_count": 18,
     "metadata": {},
     "output_type": "execute_result"
    }
   ],
   "source": [
    "df_metdb_target456.head()"
   ]
  },
  {
   "cell_type": "code",
   "execution_count": null,
   "id": "fba1117e-4900-4b34-a137-c80c3c462fea",
   "metadata": {},
   "outputs": [],
   "source": []
  },
  {
   "cell_type": "code",
   "execution_count": null,
   "id": "55a89225-412c-4574-855d-98251a289b78",
   "metadata": {},
   "outputs": [],
   "source": []
  },
  {
   "cell_type": "code",
   "execution_count": 19,
   "id": "b7ef624f-51ed-4da9-8597-ae9ad268795d",
   "metadata": {},
   "outputs": [
    {
     "data": {
      "text/html": [
       "<div>\n",
       "<style scoped>\n",
       "    .dataframe tbody tr th:only-of-type {\n",
       "        vertical-align: middle;\n",
       "    }\n",
       "\n",
       "    .dataframe tbody tr th {\n",
       "        vertical-align: top;\n",
       "    }\n",
       "\n",
       "    .dataframe thead th {\n",
       "        text-align: right;\n",
       "    }\n",
       "</style>\n",
       "<table border=\"1\" class=\"dataframe\">\n",
       "  <thead>\n",
       "    <tr style=\"text-align: right;\">\n",
       "      <th></th>\n",
       "      <th>1</th>\n",
       "      <th>2</th>\n",
       "      <th>3</th>\n",
       "      <th>4</th>\n",
       "      <th>5</th>\n",
       "      <th>6</th>\n",
       "      <th>7</th>\n",
       "      <th>8</th>\n",
       "      <th>9</th>\n",
       "      <th>10</th>\n",
       "      <th>...</th>\n",
       "      <th>453</th>\n",
       "      <th>454</th>\n",
       "      <th>455</th>\n",
       "      <th>456</th>\n",
       "      <th>457</th>\n",
       "      <th>458</th>\n",
       "      <th>459</th>\n",
       "      <th>460</th>\n",
       "      <th>461</th>\n",
       "      <th>463</th>\n",
       "    </tr>\n",
       "  </thead>\n",
       "  <tbody>\n",
       "    <tr>\n",
       "      <th>0</th>\n",
       "      <td>METDB-00001</td>\n",
       "      <td>METDB-00002</td>\n",
       "      <td>METDB-00003</td>\n",
       "      <td>METDB-00004</td>\n",
       "      <td>METDB-00005</td>\n",
       "      <td>METDB-00006</td>\n",
       "      <td>METDB-00007</td>\n",
       "      <td>METDB-00008</td>\n",
       "      <td>METDB-00009</td>\n",
       "      <td>METDB-00010</td>\n",
       "      <td>...</td>\n",
       "      <td>METDB-00476</td>\n",
       "      <td>METDB-00477</td>\n",
       "      <td>METDB-00478</td>\n",
       "      <td>METDB-00479</td>\n",
       "      <td>METDB-00480</td>\n",
       "      <td>METDB-00481</td>\n",
       "      <td>METDB-00482</td>\n",
       "      <td>METDB-00483</td>\n",
       "      <td>METDB-00484</td>\n",
       "      <td>METDB-00486</td>\n",
       "    </tr>\n",
       "    <tr>\n",
       "      <th>1</th>\n",
       "      <td>hétérotrophe</td>\n",
       "      <td>CM</td>\n",
       "      <td>CM</td>\n",
       "      <td>CM</td>\n",
       "      <td>CM</td>\n",
       "      <td>phototrophe</td>\n",
       "      <td>CM</td>\n",
       "      <td>CM</td>\n",
       "      <td>CM</td>\n",
       "      <td>NaN</td>\n",
       "      <td>...</td>\n",
       "      <td>NaN</td>\n",
       "      <td>NaN</td>\n",
       "      <td>hétérotrophe</td>\n",
       "      <td>NaN</td>\n",
       "      <td>NaN</td>\n",
       "      <td>phototrophe</td>\n",
       "      <td>NaN</td>\n",
       "      <td>phototrophe</td>\n",
       "      <td>hétérotrophe</td>\n",
       "      <td>CM</td>\n",
       "    </tr>\n",
       "  </tbody>\n",
       "</table>\n",
       "<p>2 rows × 455 columns</p>\n",
       "</div>"
      ],
      "text/plain": [
       "            1            2            3            4            5    \\\n",
       "0   METDB-00001  METDB-00002  METDB-00003  METDB-00004  METDB-00005   \n",
       "1  hétérotrophe           CM           CM           CM           CM   \n",
       "\n",
       "           6            7            8            9            10   ...  \\\n",
       "0  METDB-00006  METDB-00007  METDB-00008  METDB-00009  METDB-00010  ...   \n",
       "1  phototrophe           CM           CM           CM          NaN  ...   \n",
       "\n",
       "           453          454           455          456          457  \\\n",
       "0  METDB-00476  METDB-00477   METDB-00478  METDB-00479  METDB-00480   \n",
       "1          NaN          NaN  hétérotrophe          NaN          NaN   \n",
       "\n",
       "           458          459          460           461          463  \n",
       "0  METDB-00481  METDB-00482  METDB-00483   METDB-00484  METDB-00486  \n",
       "1  phototrophe          NaN  phototrophe  hétérotrophe           CM  \n",
       "\n",
       "[2 rows x 455 columns]"
      ]
     },
     "execution_count": 19,
     "metadata": {},
     "output_type": "execute_result"
    }
   ],
   "source": [
    "df_metdb_target456_T = df_metdb_target456.T\n",
    "df_metdb_target456_T"
   ]
  },
  {
   "cell_type": "code",
   "execution_count": 20,
   "id": "fb0c577f-c01d-465f-965c-9cc2223458ac",
   "metadata": {},
   "outputs": [],
   "source": [
    "#df_metdb_target.drop[\"1_Metdb_ID\"]"
   ]
  },
  {
   "cell_type": "code",
   "execution_count": 21,
   "id": "619198b9-8c97-4b85-96ec-acf95d22e462",
   "metadata": {},
   "outputs": [],
   "source": [
    "df_metdb_target456_T.drop(df_metdb_target456_T.index[[0]], inplace=True)"
   ]
  },
  {
   "cell_type": "code",
   "execution_count": null,
   "id": "147e3034-6aea-41a6-b9d5-f62522119af5",
   "metadata": {},
   "outputs": [],
   "source": []
  },
  {
   "cell_type": "code",
   "execution_count": 22,
   "id": "3e4bee6d-7fe5-4d0e-a9de-816898efaa2e",
   "metadata": {},
   "outputs": [
    {
     "data": {
      "text/html": [
       "<div>\n",
       "<style scoped>\n",
       "    .dataframe tbody tr th:only-of-type {\n",
       "        vertical-align: middle;\n",
       "    }\n",
       "\n",
       "    .dataframe tbody tr th {\n",
       "        vertical-align: top;\n",
       "    }\n",
       "\n",
       "    .dataframe thead th {\n",
       "        text-align: right;\n",
       "    }\n",
       "</style>\n",
       "<table border=\"1\" class=\"dataframe\">\n",
       "  <thead>\n",
       "    <tr style=\"text-align: right;\">\n",
       "      <th></th>\n",
       "      <th>1</th>\n",
       "      <th>2</th>\n",
       "      <th>3</th>\n",
       "      <th>4</th>\n",
       "      <th>5</th>\n",
       "      <th>6</th>\n",
       "      <th>7</th>\n",
       "      <th>8</th>\n",
       "      <th>9</th>\n",
       "      <th>10</th>\n",
       "      <th>...</th>\n",
       "      <th>453</th>\n",
       "      <th>454</th>\n",
       "      <th>455</th>\n",
       "      <th>456</th>\n",
       "      <th>457</th>\n",
       "      <th>458</th>\n",
       "      <th>459</th>\n",
       "      <th>460</th>\n",
       "      <th>461</th>\n",
       "      <th>463</th>\n",
       "    </tr>\n",
       "  </thead>\n",
       "  <tbody>\n",
       "    <tr>\n",
       "      <th>1</th>\n",
       "      <td>hétérotrophe</td>\n",
       "      <td>CM</td>\n",
       "      <td>CM</td>\n",
       "      <td>CM</td>\n",
       "      <td>CM</td>\n",
       "      <td>phototrophe</td>\n",
       "      <td>CM</td>\n",
       "      <td>CM</td>\n",
       "      <td>CM</td>\n",
       "      <td>NaN</td>\n",
       "      <td>...</td>\n",
       "      <td>NaN</td>\n",
       "      <td>NaN</td>\n",
       "      <td>hétérotrophe</td>\n",
       "      <td>NaN</td>\n",
       "      <td>NaN</td>\n",
       "      <td>phototrophe</td>\n",
       "      <td>NaN</td>\n",
       "      <td>phototrophe</td>\n",
       "      <td>hétérotrophe</td>\n",
       "      <td>CM</td>\n",
       "    </tr>\n",
       "  </tbody>\n",
       "</table>\n",
       "<p>1 rows × 455 columns</p>\n",
       "</div>"
      ],
      "text/plain": [
       "            1   2   3   4   5            6   7   8   9    10   ...  453  454  \\\n",
       "1  hétérotrophe  CM  CM  CM  CM  phototrophe  CM  CM  CM  NaN  ...  NaN  NaN   \n",
       "\n",
       "            455  456  457          458  459          460           461 463  \n",
       "1  hétérotrophe  NaN  NaN  phototrophe  NaN  phototrophe  hétérotrophe  CM  \n",
       "\n",
       "[1 rows x 455 columns]"
      ]
     },
     "execution_count": 22,
     "metadata": {},
     "output_type": "execute_result"
    }
   ],
   "source": [
    "df_metdb_target456_T.head()"
   ]
  },
  {
   "cell_type": "code",
   "execution_count": 23,
   "id": "05082814-77d7-4544-9817-d5d501b88d07",
   "metadata": {},
   "outputs": [
    {
     "data": {
      "text/plain": [
       "0    object\n",
       "1    object\n",
       "dtype: object"
      ]
     },
     "execution_count": 23,
     "metadata": {},
     "output_type": "execute_result"
    }
   ],
   "source": [
    "df_metdb_target.dtypes"
   ]
  },
  {
   "cell_type": "code",
   "execution_count": 24,
   "id": "b9d1975b-d000-4883-baf5-62d2c3315c8e",
   "metadata": {},
   "outputs": [],
   "source": [
    "#df_80_85 = df_80_85.append(df_metdb_target)"
   ]
  },
  {
   "cell_type": "code",
   "execution_count": 25,
   "id": "ff2a958f-0656-4210-a268-5e4da5d15508",
   "metadata": {},
   "outputs": [],
   "source": [
    "#Pour ajourter une ligne avec Numpy : \n",
    "#array = np.vstack([array, row])"
   ]
  },
  {
   "cell_type": "code",
   "execution_count": 26,
   "id": "8ad9b5cf-a1bd-4459-82a2-6f49fe4c1968",
   "metadata": {},
   "outputs": [],
   "source": [
    "import numpy as np\n",
    "df_80_85 = np.vstack([df_80_85,df_metdb_target456_T]) #To add target to df"
   ]
  },
  {
   "cell_type": "code",
   "execution_count": 27,
   "id": "35e9428a-6be5-46b4-94e8-afd59ad31ace",
   "metadata": {},
   "outputs": [],
   "source": [
    "#C'est la même chose que le vstack avec numpy :\n",
    "#df_80_85_test = np.append([df_80_85],[df_metdb_target456_T])"
   ]
  },
  {
   "cell_type": "code",
   "execution_count": 28,
   "id": "7747dfd4-a398-4f47-8c89-88762588b65f",
   "metadata": {},
   "outputs": [],
   "source": [
    "#del df_80_85_test"
   ]
  },
  {
   "cell_type": "code",
   "execution_count": 29,
   "id": "77e393ee-021b-4759-bbdb-404a9a31faa7",
   "metadata": {},
   "outputs": [
    {
     "name": "stdout",
     "output_type": "stream",
     "text": [
      "1016113 rows in df_80_85\n",
      "455 columns in df_80_85\n"
     ]
    }
   ],
   "source": [
    "import numpy as np\n",
    "# Total Rows: \n",
    "print(\"{} rows in df_80_85\".format(np.shape(df_80_85)[0]))\n",
    "\n",
    "#Total Columns: \n",
    "print(\"{} columns in df_80_85\".format(np.shape(df_80_85)[1]))"
   ]
  },
  {
   "cell_type": "code",
   "execution_count": 30,
   "id": "eb21ad68-e0f9-4318-abbe-ed5b2084074d",
   "metadata": {},
   "outputs": [
    {
     "name": "stdout",
     "output_type": "stream",
     "text": [
      "['hétérotrophe' 'CM' 'CM' 'CM' 'CM' 'phototrophe' 'CM' 'CM' 'CM' nan\n",
      " 'hétérotrophe' 'CM' 'CM' 'phototrophe' 'phototrophe' nan 'hétérotrophe'\n",
      " 'hétérotrophe' 'hétérotrophe' 'hétérotrophe' nan 'phototrophe'\n",
      " 'phototrophe' 'phototrophe' 'phototrophe' 'phototrophe' 'hétérotrophe'\n",
      " 'phototrophe' 'phototrophe' 'phototrophe' 'phototrophe' 'phototrophe' nan\n",
      " nan nan 'hétérotrophe' nan 'CM' 'CM' 'CM' 'CM' 'CM' 'CM' nan\n",
      " 'hétérotrophe' 'hétérotrophe' 'hétérotrophe' 'hétérotrophe'\n",
      " 'hétérotrophe' 'CM' 'CM' 'phototrophe' 'phototrophe' 'phototrophe'\n",
      " 'phototrophe' 'phototrophe' 'phototrophe' 'phototrophe' 'phototrophe'\n",
      " 'phototrophe' 'CM' nan 'phototrophe' 'phototrophe' nan 'phototrophe'\n",
      " 'phototrophe' nan nan 'phototrophe' 'phototrophe' 'phototrophe' nan\n",
      " 'phototrophe' 'phototrophe' 'phototrophe' 'phototrophe' 'phototrophe' nan\n",
      " 'phototrophe' 'phototrophe' nan nan nan 'CM' 'CM' 'CM' nan nan nan nan\n",
      " nan 'eSNCM' 'phototrophe' 'CM' nan nan 'phototrophe' 'phototrophe'\n",
      " 'phototrophe' 'phototrophe' nan 'hétérotrophe' 'phototrophe' nan nan\n",
      " 'phototrophe' 'phototrophe' nan 'phototrophe' 'phototrophe' 'phototrophe'\n",
      " 'phototrophe' 'phototrophe' nan 'phototrophe' 'hétérotrophe'\n",
      " 'hétérotrophe' 'hétérotrophe' 'phototrophe' 'CM' 'pSNCM' 'phototrophe'\n",
      " 'phototrophe' 'phototrophe' 'phototrophe' 'phototrophe' 'CM'\n",
      " 'phototrophe' nan 'pSNCM' 'CM' 'CM' 'CM' 'CM' 'CM' 'CM' 'CM' 'CM'\n",
      " 'phototrophe' nan nan 'phototrophe' nan nan nan 'phototrophe'\n",
      " 'phototrophe' nan 'phototrophe' 'hétérotrophe' 'phototrophe'\n",
      " 'hétérotrophe' 'CM' nan nan nan nan nan 'phototrophe' 'phototrophe'\n",
      " 'phototrophe' 'CM' nan 'CM' 'CM' nan nan nan nan 'CM' 'phototrophe' nan\n",
      " 'phototrophe' nan 'CM' 'phototrophe' 'hétérotrophe' nan 'CM' nan\n",
      " 'phototrophe' nan nan nan nan nan nan 'phototrophe' nan 'CM' 'CM' 'CM'\n",
      " 'CM' 'CM' 'CM' 'CM' nan 'CM' 'CM' 'CM' 'CM' 'CM' 'CM' nan 'CM'\n",
      " 'phototrophe' 'phototrophe' 'hétérotrophe' 'phototrophe' 'phototrophe'\n",
      " 'phototrophe' 'phototrophe' 'phototrophe' 'CM' nan 'phototrophe' nan nan\n",
      " 'CM' nan nan 'CM' nan nan nan 'pSNCM' nan 'CM' 'CM' 'CM' nan 'CM' 'CM'\n",
      " 'CM' 'CM' 'CM' 'CM' 'CM' 'CM' nan nan 'phototrophe' 'phototrophe'\n",
      " 'phototrophe' 'pSNCM' 'phototrophe' nan nan 'CM' 'phototrophe'\n",
      " 'phototrophe' 'eSNCM' nan nan nan 'CM' 'CM' 'CM' 'phototrophe'\n",
      " 'phototrophe' 'phototrophe' 'phototrophe' 'phototrophe' 'phototrophe'\n",
      " 'phototrophe' 'phototrophe' 'phototrophe' 'hétérotrophe' 'hétérotrophe'\n",
      " 'hétérotrophe' 'hétérotrophe' nan nan 'hétérotrophe' 'hétérotrophe' nan\n",
      " nan 'phototrophe' 'CM' nan nan 'phototrophe' 'phototrophe' 'phototrophe'\n",
      " 'phototrophe' 'phototrophe' 'phototrophe' 'phototrophe' 'phototrophe' nan\n",
      " nan 'phototrophe' nan 'hétérotrophe' 'hétérotrophe' nan 'hétérotrophe'\n",
      " 'hétérotrophe' nan 'phototrophe' 'phototrophe' 'phototrophe'\n",
      " 'phototrophe' 'phototrophe' 'phototrophe' 'phototrophe' 'phototrophe'\n",
      " 'phototrophe' 'phototrophe' nan 'phototrophe' 'phototrophe' 'phototrophe'\n",
      " 'phototrophe' nan nan 'phototrophe' nan nan 'phototrophe' 'phototrophe'\n",
      " 'phototrophe' 'phototrophe' 'hétérotrophe' nan 'phototrophe'\n",
      " 'phototrophe' nan 'phototrophe' 'phototrophe' 'CM' 'CM' 'CM'\n",
      " 'phototrophe' 'phototrophe' nan 'CM' 'phototrophe' 'phototrophe'\n",
      " 'phototrophe' 'phototrophe' 'phototrophe' 'phototrophe' 'phototrophe'\n",
      " 'phototrophe' nan nan 'phototrophe' 'hétérotrophe' nan 'phototrophe'\n",
      " 'phototrophe' 'phototrophe' 'phototrophe' nan nan nan nan nan 'CM'\n",
      " 'phototrophe' 'phototrophe' 'phototrophe' nan 'phototrophe' nan nan\n",
      " 'phototrophe' nan nan nan nan nan 'hétérotrophe' 'phototrophe'\n",
      " 'phototrophe' 'CM' nan nan nan 'phototrophe' 'phototrophe' 'phototrophe'\n",
      " 'phototrophe' 'phototrophe' 'phototrophe' 'phototrophe' 'phototrophe'\n",
      " 'phototrophe' 'phototrophe' 'eSNCM' 'hétérotrophe' 'phototrophe'\n",
      " 'phototrophe' 'phototrophe' 'hétérotrophe' nan 'phototrophe'\n",
      " 'hétérotrophe' 'hétérotrophe' nan 'GNCM' nan 'phototrophe' 'CM' 'CM' 'CM'\n",
      " 'CM' 'CM' 'CM' 'CM' nan 'phototrophe' 'phototrophe' nan nan nan nan\n",
      " 'phototrophe' 'phototrophe' 'phototrophe' 'phototrophe' 'phototrophe'\n",
      " 'phototrophe' 'phototrophe' 'phototrophe' 'phototrophe' 'phototrophe'\n",
      " 'phototrophe' 'phototrophe' 'phototrophe' 'phototrophe' 'phototrophe' nan\n",
      " 'hétérotrophe' 'eSNCM' nan nan 'phototrophe' nan nan nan nan nan nan nan\n",
      " 'hétérotrophe' nan nan 'phototrophe' nan 'phototrophe' 'hétérotrophe'\n",
      " 'CM']\n"
     ]
    }
   ],
   "source": [
    "#Pour vérifier que le join (vstack) c'est bien passé :\n",
    "print(df_80_85[1016112])"
   ]
  },
  {
   "cell_type": "code",
   "execution_count": 31,
   "id": "ef70f790-b6e5-4b01-a4ea-6bcbdf6845a5",
   "metadata": {},
   "outputs": [
    {
     "data": {
      "text/plain": [
       "(1016113, 455)"
      ]
     },
     "execution_count": 31,
     "metadata": {},
     "output_type": "execute_result"
    }
   ],
   "source": [
    "df_80_85.shape"
   ]
  },
  {
   "cell_type": "code",
   "execution_count": 32,
   "id": "bff012a9-39d6-4017-b316-411e1174dce3",
   "metadata": {},
   "outputs": [],
   "source": [
    "df_80_85 = df_80_85.T #To transpose rows to columns"
   ]
  },
  {
   "cell_type": "code",
   "execution_count": 33,
   "id": "9c861712-b369-420e-bdc7-5817c9cdd506",
   "metadata": {},
   "outputs": [
    {
     "data": {
      "text/plain": [
       "array([[1, 1, 3, ..., 0, 0, 'hétérotrophe'],\n",
       "       [0, 0, 0, ..., 0, 0, 'CM'],\n",
       "       [0, 0, 0, ..., 0, 0, 'CM'],\n",
       "       ...,\n",
       "       [0, 1, 0, ..., 0, 0, 'phototrophe'],\n",
       "       [0, 0, 0, ..., 0, 0, 'hétérotrophe'],\n",
       "       [0, 0, 0, ..., 0, 0, 'CM']], dtype=object)"
      ]
     },
     "execution_count": 33,
     "metadata": {},
     "output_type": "execute_result"
    }
   ],
   "source": [
    "df_80_85"
   ]
  },
  {
   "cell_type": "code",
   "execution_count": 34,
   "id": "8cc10b38-c3e1-4fb3-b76a-881d6e15dc52",
   "metadata": {},
   "outputs": [
    {
     "data": {
      "text/plain": [
       "(455, 1016113)"
      ]
     },
     "execution_count": 34,
     "metadata": {},
     "output_type": "execute_result"
    }
   ],
   "source": [
    "df_80_85.shape"
   ]
  },
  {
   "cell_type": "code",
   "execution_count": 35,
   "id": "c4b00631-0cae-46e9-8735-77ce0bbd4324",
   "metadata": {},
   "outputs": [
    {
     "data": {
      "text/plain": [
       "array([0, 0, 0, ..., 0, 0, 'CM'], dtype=object)"
      ]
     },
     "execution_count": 35,
     "metadata": {},
     "output_type": "execute_result"
    }
   ],
   "source": [
    "df_80_85[-1]"
   ]
  },
  {
   "cell_type": "code",
   "execution_count": 36,
   "id": "3dae17e4-0951-4f51-8d2f-feb9a30472ed",
   "metadata": {},
   "outputs": [],
   "source": [
    "#tesstz = np.nan_to_num(df_80_85, copy=False, nan=0.0)"
   ]
  },
  {
   "cell_type": "code",
   "execution_count": 37,
   "id": "ff4bad31-cbd3-461f-8d94-4b807bf3d66f",
   "metadata": {},
   "outputs": [],
   "source": [
    "#pd.DataFrame(df_80_85[:,-1]).fillna(0, inplace=True)"
   ]
  },
  {
   "cell_type": "code",
   "execution_count": 38,
   "id": "104d6a71-1338-4538-9362-8d2a48f46234",
   "metadata": {},
   "outputs": [
    {
     "data": {
      "text/plain": [
       "array([[1, 1, 3, ..., 0, 0, 'hétérotrophe'],\n",
       "       [0, 0, 0, ..., 0, 0, 'CM'],\n",
       "       [0, 0, 0, ..., 0, 0, 'CM'],\n",
       "       ...,\n",
       "       [0, 1, 0, ..., 0, 0, 'phototrophe'],\n",
       "       [0, 0, 0, ..., 0, 0, 'hétérotrophe'],\n",
       "       [0, 0, 0, ..., 0, 0, 'CM']], dtype=object)"
      ]
     },
     "execution_count": 38,
     "metadata": {},
     "output_type": "execute_result"
    }
   ],
   "source": [
    "mask = [isinstance(i, str) for i in df_80_85[:,-1]]\n",
    "df_80_85 = df_80_85[mask,:]\n",
    "df_80_85"
   ]
  },
  {
   "cell_type": "code",
   "execution_count": 39,
   "id": "57f773c8-9229-4d9c-8f39-53f0511aca8d",
   "metadata": {},
   "outputs": [
    {
     "data": {
      "text/plain": [
       "str"
      ]
     },
     "execution_count": 39,
     "metadata": {},
     "output_type": "execute_result"
    }
   ],
   "source": [
    "type(df_80_85[0,-1])"
   ]
  },
  {
   "cell_type": "code",
   "execution_count": null,
   "id": "c165e046-6879-40b6-b13f-fa841c66472a",
   "metadata": {},
   "outputs": [],
   "source": []
  },
  {
   "cell_type": "code",
   "execution_count": null,
   "id": "3ffa2dc6-22a1-465b-8134-a23f7ebeba51",
   "metadata": {},
   "outputs": [],
   "source": []
  },
  {
   "cell_type": "code",
   "execution_count": 40,
   "id": "2e1fee53-af01-4016-99d9-8a9096ad8f78",
   "metadata": {},
   "outputs": [],
   "source": [
    "#df_80_85 = df_80_85[~mask_nan,:]\n",
    "#df_80_85"
   ]
  },
  {
   "cell_type": "code",
   "execution_count": 41,
   "id": "1b4643b8-a52a-4ab1-a0a4-92b7190a05de",
   "metadata": {},
   "outputs": [],
   "source": [
    "#np.isnan(df_80_85[-1])"
   ]
  },
  {
   "cell_type": "code",
   "execution_count": 42,
   "id": "f30d053c-f076-4846-86e1-e69ecfebbf44",
   "metadata": {},
   "outputs": [
    {
     "data": {
      "text/plain": [
       "array(['hétérotrophe', 'CM', 'CM', 'CM', 'CM', 'phototrophe', 'CM', 'CM',\n",
       "       'CM', 'hétérotrophe'], dtype=object)"
      ]
     },
     "execution_count": 42,
     "metadata": {},
     "output_type": "execute_result"
    }
   ],
   "source": [
    "df_80_85[0:10,-1]"
   ]
  },
  {
   "cell_type": "code",
   "execution_count": 43,
   "id": "e6904d31-f39f-44c5-9354-ec196c627c74",
   "metadata": {},
   "outputs": [
    {
     "data": {
      "text/plain": [
       "array([[1, 1, 3, ..., 0, 0, 'hétérotrophe'],\n",
       "       [0, 0, 0, ..., 0, 0, 'CM'],\n",
       "       [0, 0, 0, ..., 0, 0, 'CM'],\n",
       "       ...,\n",
       "       [0, 1, 0, ..., 0, 0, 'phototrophe'],\n",
       "       [0, 0, 0, ..., 0, 0, 'hétérotrophe'],\n",
       "       [0, 0, 0, ..., 0, 0, 'CM']], dtype=object)"
      ]
     },
     "execution_count": 43,
     "metadata": {},
     "output_type": "execute_result"
    }
   ],
   "source": [
    "df_80_85"
   ]
  },
  {
   "cell_type": "code",
   "execution_count": 44,
   "id": "e2b2295b-3e4e-469c-bd8d-8a506c0cdaa8",
   "metadata": {},
   "outputs": [
    {
     "data": {
      "text/plain": [
       "'\\nimport plotly.express as px\\nimport plotly.graph_objects as go\\nimport plotly.io as pio\\n'"
      ]
     },
     "execution_count": 44,
     "metadata": {},
     "output_type": "execute_result"
    }
   ],
   "source": [
    "from sklearn.model_selection import train_test_split\n",
    "from sklearn.model_selection import GridSearchCV\n",
    "from sklearn.preprocessing import StandardScaler\n",
    "from sklearn.linear_model import LinearRegression\n",
    "from sklearn.linear_model import Lasso\n",
    "from sklearn.metrics import r2_score, mean_squared_error\n",
    "import warnings\n",
    "warnings.filterwarnings(\"ignore\", category=DeprecationWarning) # to avoid deprecation warnings\n",
    "\n",
    "\"\"\"\n",
    "import plotly.express as px\n",
    "import plotly.graph_objects as go\n",
    "import plotly.io as pio\n",
    "\"\"\""
   ]
  },
  {
   "cell_type": "code",
   "execution_count": 45,
   "id": "cf9f2e7b-dc68-4910-b43b-838ff05df579",
   "metadata": {},
   "outputs": [],
   "source": [
    "from sklearn import preprocessing\n",
    "le = preprocessing.LabelEncoder()\n",
    "df_80_85[:,-1] = le.fit_transform(df_80_85[:,-1])"
   ]
  },
  {
   "cell_type": "code",
   "execution_count": 46,
   "id": "ef085e4a-05fa-4068-a97f-887bc51527cd",
   "metadata": {},
   "outputs": [
    {
     "data": {
      "text/plain": [
       "array([[1, 1, 3, ..., 0, 0, 3],\n",
       "       [0, 0, 0, ..., 0, 0, 0],\n",
       "       [0, 0, 0, ..., 0, 0, 0],\n",
       "       ...,\n",
       "       [0, 1, 0, ..., 0, 0, 5],\n",
       "       [0, 0, 0, ..., 0, 0, 3],\n",
       "       [0, 0, 0, ..., 0, 0, 0]], dtype=object)"
      ]
     },
     "execution_count": 46,
     "metadata": {},
     "output_type": "execute_result"
    }
   ],
   "source": [
    "df_80_85"
   ]
  },
  {
   "cell_type": "code",
   "execution_count": 47,
   "id": "e22d7fd8-51d1-48ac-9b8d-aa56cd93e163",
   "metadata": {},
   "outputs": [
    {
     "data": {
      "text/plain": [
       "array([3, 0, 0, 0, 0, 5, 0, 0, 0, 3, 0, 0, 5, 5, 3, 3, 3, 3, 5, 5, 5, 5,\n",
       "       5, 3, 5, 5, 5, 5, 5, 3, 0, 0, 0, 0, 0, 0, 3, 3, 3, 3, 3, 0, 0, 5,\n",
       "       5, 5, 5, 5, 5, 5, 5, 5, 0, 5, 5, 5, 5, 5, 5, 5, 5, 5, 5, 5, 5, 5,\n",
       "       5, 0, 0, 0, 2, 5, 0, 5, 5, 5, 5, 3, 5, 5, 5, 5, 5, 5, 5, 5, 5, 3,\n",
       "       3, 3, 5, 0, 4, 5, 5, 5, 5, 5, 0, 5, 4, 0, 0, 0, 0, 0, 0, 0, 0, 5,\n",
       "       5, 5, 5, 5, 3, 5, 3, 0, 5, 5, 5, 0, 0, 0, 0, 5, 5, 0, 5, 3, 0, 5,\n",
       "       5, 0, 0, 0, 0, 0, 0, 0, 0, 0, 0, 0, 0, 0, 0, 5, 5, 3, 5, 5, 5, 5,\n",
       "       5, 0, 5, 0, 0, 4, 0, 0, 0, 0, 0, 0, 0, 0, 0, 0, 0, 5, 5, 5, 4, 5,\n",
       "       0, 5, 5, 2, 0, 0, 0, 5, 5, 5, 5, 5, 5, 5, 5, 5, 3, 3, 3, 3, 3, 3,\n",
       "       5, 0, 5, 5, 5, 5, 5, 5, 5, 5, 5, 3, 3, 3, 3, 5, 5, 5, 5, 5, 5, 5,\n",
       "       5, 5, 5, 5, 5, 5, 5, 5, 5, 5, 5, 5, 3, 5, 5, 5, 5, 0, 0, 0, 5, 5,\n",
       "       0, 5, 5, 5, 5, 5, 5, 5, 5, 5, 3, 5, 5, 5, 5, 0, 5, 5, 5, 5, 5, 3,\n",
       "       5, 5, 0, 5, 5, 5, 5, 5, 5, 5, 5, 5, 5, 2, 3, 5, 5, 5, 3, 5, 3, 3,\n",
       "       1, 5, 0, 0, 0, 0, 0, 0, 0, 5, 5, 5, 5, 5, 5, 5, 5, 5, 5, 5, 5, 5,\n",
       "       5, 5, 5, 5, 3, 2, 5, 3, 5, 5, 3, 0], dtype=object)"
      ]
     },
     "execution_count": 47,
     "metadata": {},
     "output_type": "execute_result"
    }
   ],
   "source": [
    "df_80_85[:,-1]"
   ]
  },
  {
   "cell_type": "code",
   "execution_count": 48,
   "id": "d5787c3e-7f11-4111-85e7-a7689cc5aa31",
   "metadata": {},
   "outputs": [
    {
     "data": {
      "text/plain": [
       "[True, True, True, True, True, True, True, True, True, True]"
      ]
     },
     "execution_count": 48,
     "metadata": {},
     "output_type": "execute_result"
    }
   ],
   "source": [
    "mask_y = [i in [0,3,5] for i in df_80_85[:,-1]]\n",
    "mask_y[0:10]"
   ]
  },
  {
   "cell_type": "code",
   "execution_count": 49,
   "id": "7fcafa5b-163b-4e69-b657-7be055578e4e",
   "metadata": {},
   "outputs": [],
   "source": [
    "df_80_85 = df_80_85[mask_y,:]"
   ]
  },
  {
   "cell_type": "code",
   "execution_count": 50,
   "id": "4f5ec46f-ffad-4275-9d9b-9fe344d4897e",
   "metadata": {},
   "outputs": [
    {
     "data": {
      "text/plain": [
       "array([[1, 1, 3, ..., 0, 0, 3],\n",
       "       [0, 0, 0, ..., 0, 0, 0],\n",
       "       [0, 0, 0, ..., 0, 0, 0],\n",
       "       ...,\n",
       "       [0, 1, 0, ..., 0, 0, 5],\n",
       "       [0, 0, 0, ..., 0, 0, 3],\n",
       "       [0, 0, 0, ..., 0, 0, 0]], dtype=object)"
      ]
     },
     "execution_count": 50,
     "metadata": {},
     "output_type": "execute_result"
    }
   ],
   "source": [
    "df_80_85"
   ]
  },
  {
   "cell_type": "code",
   "execution_count": 51,
   "id": "5950df07-5284-41cc-b269-5f2fc67d5fef",
   "metadata": {},
   "outputs": [],
   "source": [
    "X = df_80_85[:,:-1]\n",
    "#X = X.T\n",
    "y = df_80_85[:,-1]"
   ]
  },
  {
   "cell_type": "code",
   "execution_count": 52,
   "id": "f3d1d833-ed17-482f-a375-4a16b605e46b",
   "metadata": {},
   "outputs": [
    {
     "data": {
      "text/plain": [
       "(311, 1016112)"
      ]
     },
     "execution_count": 52,
     "metadata": {},
     "output_type": "execute_result"
    }
   ],
   "source": [
    "X.shape"
   ]
  },
  {
   "cell_type": "code",
   "execution_count": 53,
   "id": "04b4a6bd-a6d0-49eb-bfdb-4d694fa6cab9",
   "metadata": {},
   "outputs": [
    {
     "data": {
      "text/plain": [
       "(311,)"
      ]
     },
     "execution_count": 53,
     "metadata": {},
     "output_type": "execute_result"
    }
   ],
   "source": [
    "y.shape"
   ]
  },
  {
   "cell_type": "code",
   "execution_count": 54,
   "id": "4306c208-a283-495c-9887-d70475ee8ada",
   "metadata": {},
   "outputs": [
    {
     "data": {
      "text/plain": [
       "array([[1, 1, 3, ..., 0, 0, 0],\n",
       "       [0, 0, 0, ..., 0, 0, 0],\n",
       "       [0, 0, 0, ..., 0, 0, 0],\n",
       "       ...,\n",
       "       [0, 1, 0, ..., 0, 0, 0],\n",
       "       [0, 0, 0, ..., 0, 0, 0],\n",
       "       [0, 0, 0, ..., 0, 0, 0]], dtype=object)"
      ]
     },
     "execution_count": 54,
     "metadata": {},
     "output_type": "execute_result"
    }
   ],
   "source": [
    "X"
   ]
  },
  {
   "cell_type": "markdown",
   "id": "2ab34d73-f4bf-4763-91a7-1789cb034d7f",
   "metadata": {},
   "source": [
    "#To estimated how long processing will take we do some tests with few features\n",
    "#Then we place result in a graph to see if we need 1 minute or 10 days for all dataset\n",
    "X1 = X[:,:5]\n",
    "X2 = X[:,:10]\n",
    "X3 = X[:,:20]\n",
    "X4 = X[:,:40]\n",
    "X5 = X[:,:80]"
   ]
  },
  {
   "cell_type": "code",
   "execution_count": 55,
   "id": "35312fac-a348-48e2-ac5c-a8debfa0fd8a",
   "metadata": {},
   "outputs": [
    {
     "data": {
      "text/plain": [
       "array([3, 0, 0, 0, 0, 5, 0, 0, 0, 3, 0, 0, 5, 5, 3, 3, 3, 3, 5, 5, 5, 5,\n",
       "       5, 3, 5, 5, 5, 5, 5, 3, 0, 0, 0, 0, 0, 0, 3, 3, 3, 3, 3, 0, 0, 5,\n",
       "       5, 5, 5, 5, 5, 5, 5, 5, 0, 5, 5, 5, 5, 5, 5, 5, 5, 5, 5, 5, 5, 5,\n",
       "       5, 0, 0, 0, 5, 0, 5, 5, 5, 5, 3, 5, 5, 5, 5, 5, 5, 5, 5, 5, 3, 3,\n",
       "       3, 5, 0, 5, 5, 5, 5, 5, 0, 5, 0, 0, 0, 0, 0, 0, 0, 0, 5, 5, 5, 5,\n",
       "       5, 3, 5, 3, 0, 5, 5, 5, 0, 0, 0, 0, 5, 5, 0, 5, 3, 0, 5, 5, 0, 0,\n",
       "       0, 0, 0, 0, 0, 0, 0, 0, 0, 0, 0, 0, 5, 5, 3, 5, 5, 5, 5, 5, 0, 5,\n",
       "       0, 0, 0, 0, 0, 0, 0, 0, 0, 0, 0, 0, 0, 5, 5, 5, 5, 0, 5, 5, 0, 0,\n",
       "       0, 5, 5, 5, 5, 5, 5, 5, 5, 5, 3, 3, 3, 3, 3, 3, 5, 0, 5, 5, 5, 5,\n",
       "       5, 5, 5, 5, 5, 3, 3, 3, 3, 5, 5, 5, 5, 5, 5, 5, 5, 5, 5, 5, 5, 5,\n",
       "       5, 5, 5, 5, 5, 5, 3, 5, 5, 5, 5, 0, 0, 0, 5, 5, 0, 5, 5, 5, 5, 5,\n",
       "       5, 5, 5, 5, 3, 5, 5, 5, 5, 0, 5, 5, 5, 5, 5, 3, 5, 5, 0, 5, 5, 5,\n",
       "       5, 5, 5, 5, 5, 5, 5, 3, 5, 5, 5, 3, 5, 3, 3, 5, 0, 0, 0, 0, 0, 0,\n",
       "       0, 5, 5, 5, 5, 5, 5, 5, 5, 5, 5, 5, 5, 5, 5, 5, 5, 5, 3, 5, 3, 5,\n",
       "       5, 3, 0])"
      ]
     },
     "execution_count": 55,
     "metadata": {},
     "output_type": "execute_result"
    }
   ],
   "source": [
    "y = y.astype(int)\n",
    "y"
   ]
  },
  {
   "cell_type": "code",
   "execution_count": 56,
   "id": "93ebd467-4318-49b4-b088-49ca8d514802",
   "metadata": {},
   "outputs": [
    {
     "data": {
      "text/plain": [
       "(array([0, 3, 5]), array([ 86,  41, 184], dtype=int64))"
      ]
     },
     "execution_count": 56,
     "metadata": {},
     "output_type": "execute_result"
    }
   ],
   "source": [
    "np.unique(y, return_counts=True)"
   ]
  },
  {
   "cell_type": "code",
   "execution_count": null,
   "id": "97120996-b2d8-44c6-b341-55b2d7f58225",
   "metadata": {},
   "outputs": [],
   "source": []
  },
  {
   "cell_type": "code",
   "execution_count": null,
   "id": "a1f291d2-b24c-4ed1-be4d-bf76ee709fea",
   "metadata": {},
   "outputs": [],
   "source": []
  },
  {
   "cell_type": "code",
   "execution_count": null,
   "id": "ad3c618d-af31-499f-bbd4-f85f426d2ca5",
   "metadata": {},
   "outputs": [],
   "source": []
  },
  {
   "cell_type": "markdown",
   "id": "9caa80d9-f146-48b2-9044-7c5a3aeee486",
   "metadata": {},
   "source": [
    "#To estimated how long processing will take we do some tests with few features\n",
    "#Then we place result in a graph to see if we need 1 minute or 10 days for all dataset\n",
    "y1 = y[:,:5]\n",
    "y2 = y[:,:10]\n",
    "y3 = y[:,:20]\n",
    "y4 = y[:,:40]\n",
    "y5 = y[:,:80]"
   ]
  },
  {
   "cell_type": "code",
   "execution_count": 57,
   "id": "7781aba8-c7a7-442d-b5c0-398d76d75a45",
   "metadata": {},
   "outputs": [],
   "source": [
    "X_train, X_test, y_train, y_test = train_test_split(X, y, test_size = 0.2)\n",
    "\n",
    "sc = StandardScaler()\n",
    "sc_fit = sc.fit(X_train)\n",
    "X_train = sc_fit.transform(X_train)\n",
    "X_test = sc_fit.transform(X_test)"
   ]
  },
  {
   "cell_type": "code",
   "execution_count": 58,
   "id": "f71c6fa5-2ff2-45f7-8f1a-1ed18249c8eb",
   "metadata": {},
   "outputs": [
    {
     "name": "stdout",
     "output_type": "stream",
     "text": [
      "On train set accuracy is 1.0\n",
      "On test set accuracy is 0.8095238095238095\n",
      "Wall time: 26min 56s\n"
     ]
    }
   ],
   "source": [
    "%%time\n",
    "#New test with cv=5\n",
    "from sklearn.linear_model import LogisticRegressionCV\n",
    "\n",
    "lasso = LogisticRegressionCV(penalty='l1', solver=\"liblinear\", cv=5, max_iter = 500) # max_iter = 500  solver=\"saga\"\n",
    "\n",
    "\n",
    "lasso = lasso.fit(X_train, y_train)\n",
    "print(\"On train set accuracy is {}\".format(lasso.score(X_train, y_train)))\n",
    "\n",
    "print(\"On test set accuracy is {}\".format(lasso.score(X_test, y_test)))"
   ]
  },
  {
   "cell_type": "code",
   "execution_count": 59,
   "id": "4d30f856-f68f-4413-89ac-32dc55567876",
   "metadata": {},
   "outputs": [
    {
     "name": "stdout",
     "output_type": "stream",
     "text": [
      "2203.3333333333335\n",
      "Wall time: 8 ms\n"
     ]
    }
   ],
   "source": [
    "%%time\n",
    "coef = lasso.coef_\n",
    "\n",
    "coef = (coef !=0)\n",
    "n_features_used = np.sum(coef)/3\n",
    "print(n_features_used)"
   ]
  },
  {
   "cell_type": "code",
   "execution_count": 61,
   "id": "2ff74c56-8bec-4449-922f-9c0306005fc7",
   "metadata": {},
   "outputs": [],
   "source": [
    "df_coef = pd.DataFrame(lasso.coef_, columns = CC_80_85) #To find columns used to train model"
   ]
  },
  {
   "cell_type": "code",
   "execution_count": 62,
   "id": "917f3f68-148e-44c1-bf3e-377bf8d14d06",
   "metadata": {},
   "outputs": [
    {
     "data": {
      "text/html": [
       "<div>\n",
       "<style scoped>\n",
       "    .dataframe tbody tr th:only-of-type {\n",
       "        vertical-align: middle;\n",
       "    }\n",
       "\n",
       "    .dataframe tbody tr th {\n",
       "        vertical-align: top;\n",
       "    }\n",
       "\n",
       "    .dataframe thead th {\n",
       "        text-align: right;\n",
       "    }\n",
       "</style>\n",
       "<table border=\"1\" class=\"dataframe\">\n",
       "  <thead>\n",
       "    <tr style=\"text-align: right;\">\n",
       "      <th>CC</th>\n",
       "      <th>CC_0</th>\n",
       "      <th>CC_1</th>\n",
       "      <th>CC_2</th>\n",
       "      <th>CC_3</th>\n",
       "      <th>CC_4</th>\n",
       "      <th>CC_5</th>\n",
       "      <th>CC_6</th>\n",
       "      <th>CC_7</th>\n",
       "      <th>CC_8</th>\n",
       "      <th>CC_9</th>\n",
       "      <th>...</th>\n",
       "      <th>CC_1016102</th>\n",
       "      <th>CC_1016103</th>\n",
       "      <th>CC_1016104</th>\n",
       "      <th>CC_1016105</th>\n",
       "      <th>CC_1016106</th>\n",
       "      <th>CC_1016107</th>\n",
       "      <th>CC_1016108</th>\n",
       "      <th>CC_1016109</th>\n",
       "      <th>CC_1016110</th>\n",
       "      <th>CC_1016111</th>\n",
       "    </tr>\n",
       "  </thead>\n",
       "  <tbody>\n",
       "    <tr>\n",
       "      <th>0</th>\n",
       "      <td>0.0</td>\n",
       "      <td>0.0</td>\n",
       "      <td>0.0</td>\n",
       "      <td>0.0</td>\n",
       "      <td>0.0</td>\n",
       "      <td>0.0</td>\n",
       "      <td>0.0</td>\n",
       "      <td>0.0</td>\n",
       "      <td>0.0</td>\n",
       "      <td>0.0</td>\n",
       "      <td>...</td>\n",
       "      <td>0.0</td>\n",
       "      <td>0.0</td>\n",
       "      <td>0.0</td>\n",
       "      <td>0.0</td>\n",
       "      <td>0.0</td>\n",
       "      <td>0.0</td>\n",
       "      <td>0.0</td>\n",
       "      <td>0.0</td>\n",
       "      <td>0.0</td>\n",
       "      <td>0.0</td>\n",
       "    </tr>\n",
       "    <tr>\n",
       "      <th>1</th>\n",
       "      <td>0.0</td>\n",
       "      <td>0.0</td>\n",
       "      <td>0.0</td>\n",
       "      <td>0.0</td>\n",
       "      <td>0.0</td>\n",
       "      <td>0.0</td>\n",
       "      <td>0.0</td>\n",
       "      <td>0.0</td>\n",
       "      <td>0.0</td>\n",
       "      <td>0.0</td>\n",
       "      <td>...</td>\n",
       "      <td>0.0</td>\n",
       "      <td>0.0</td>\n",
       "      <td>0.0</td>\n",
       "      <td>0.0</td>\n",
       "      <td>0.0</td>\n",
       "      <td>0.0</td>\n",
       "      <td>0.0</td>\n",
       "      <td>0.0</td>\n",
       "      <td>0.0</td>\n",
       "      <td>0.0</td>\n",
       "    </tr>\n",
       "    <tr>\n",
       "      <th>2</th>\n",
       "      <td>0.0</td>\n",
       "      <td>0.0</td>\n",
       "      <td>0.0</td>\n",
       "      <td>0.0</td>\n",
       "      <td>0.0</td>\n",
       "      <td>0.0</td>\n",
       "      <td>0.0</td>\n",
       "      <td>0.0</td>\n",
       "      <td>0.0</td>\n",
       "      <td>0.0</td>\n",
       "      <td>...</td>\n",
       "      <td>0.0</td>\n",
       "      <td>0.0</td>\n",
       "      <td>0.0</td>\n",
       "      <td>0.0</td>\n",
       "      <td>0.0</td>\n",
       "      <td>0.0</td>\n",
       "      <td>0.0</td>\n",
       "      <td>0.0</td>\n",
       "      <td>0.0</td>\n",
       "      <td>0.0</td>\n",
       "    </tr>\n",
       "  </tbody>\n",
       "</table>\n",
       "<p>3 rows × 1016112 columns</p>\n",
       "</div>"
      ],
      "text/plain": [
       "CC  CC_0  CC_1  CC_2  CC_3  CC_4  CC_5  CC_6  CC_7  CC_8  CC_9  ...  \\\n",
       "0    0.0   0.0   0.0   0.0   0.0   0.0   0.0   0.0   0.0   0.0  ...   \n",
       "1    0.0   0.0   0.0   0.0   0.0   0.0   0.0   0.0   0.0   0.0  ...   \n",
       "2    0.0   0.0   0.0   0.0   0.0   0.0   0.0   0.0   0.0   0.0  ...   \n",
       "\n",
       "CC  CC_1016102  CC_1016103  CC_1016104  CC_1016105  CC_1016106  CC_1016107  \\\n",
       "0          0.0         0.0         0.0         0.0         0.0         0.0   \n",
       "1          0.0         0.0         0.0         0.0         0.0         0.0   \n",
       "2          0.0         0.0         0.0         0.0         0.0         0.0   \n",
       "\n",
       "CC  CC_1016108  CC_1016109  CC_1016110  CC_1016111  \n",
       "0          0.0         0.0         0.0         0.0  \n",
       "1          0.0         0.0         0.0         0.0  \n",
       "2          0.0         0.0         0.0         0.0  \n",
       "\n",
       "[3 rows x 1016112 columns]"
      ]
     },
     "execution_count": 62,
     "metadata": {},
     "output_type": "execute_result"
    }
   ],
   "source": [
    "df_coef.head()"
   ]
  },
  {
   "cell_type": "code",
   "execution_count": 63,
   "id": "659736ac-1a53-4e5c-ac50-5d2fd0c2651e",
   "metadata": {},
   "outputs": [
    {
     "name": "stdout",
     "output_type": "stream",
     "text": [
      "<class 'pandas.core.frame.DataFrame'>\n",
      "RangeIndex: 3 entries, 0 to 2\n",
      "Columns: 1016112 entries, CC_0 to CC_1016111\n",
      "dtypes: float64(1016112)\n",
      "memory usage: 23.3 MB\n"
     ]
    }
   ],
   "source": [
    "df_coef.info()"
   ]
  },
  {
   "cell_type": "code",
   "execution_count": null,
   "id": "dc0426a3-4bea-41bb-baeb-556b1404c220",
   "metadata": {},
   "outputs": [],
   "source": [
    "\"\"\"\n",
    "\n",
    "%%time\n",
    "#New test with solver = \"sage\"\n",
    "lasso = LogisticRegressionCV(penalty='l1', solver=\"saga\", cv=3, max_iter = 1000) # max_iter = 500  solver=\"saga\"\n",
    "\n",
    "\n",
    "lasso = lasso.fit(X_train, y_train)\n",
    "print(\"On train set accuracy is {}\".format(lasso.score(X_train, y_train)))\n",
    "\n",
    "print(\"On test set accuracy is {}\".format(lasso.score(X_test, y_test)))\n",
    "\n",
    "\"\"\""
   ]
  },
  {
   "cell_type": "code",
   "execution_count": 64,
   "id": "4b45b81a-a539-48d3-aaa9-57a558c6ff94",
   "metadata": {},
   "outputs": [],
   "source": [
    "df_coef_T = df_coef.T #To transpose columns to rows"
   ]
  },
  {
   "cell_type": "code",
   "execution_count": 65,
   "id": "a4c619fa-9060-41fb-b5ef-63b75ba6e990",
   "metadata": {},
   "outputs": [
    {
     "data": {
      "text/html": [
       "<div>\n",
       "<style scoped>\n",
       "    .dataframe tbody tr th:only-of-type {\n",
       "        vertical-align: middle;\n",
       "    }\n",
       "\n",
       "    .dataframe tbody tr th {\n",
       "        vertical-align: top;\n",
       "    }\n",
       "\n",
       "    .dataframe thead th {\n",
       "        text-align: right;\n",
       "    }\n",
       "</style>\n",
       "<table border=\"1\" class=\"dataframe\">\n",
       "  <thead>\n",
       "    <tr style=\"text-align: right;\">\n",
       "      <th></th>\n",
       "      <th>0</th>\n",
       "      <th>1</th>\n",
       "      <th>2</th>\n",
       "    </tr>\n",
       "    <tr>\n",
       "      <th>CC</th>\n",
       "      <th></th>\n",
       "      <th></th>\n",
       "      <th></th>\n",
       "    </tr>\n",
       "  </thead>\n",
       "  <tbody>\n",
       "    <tr>\n",
       "      <th>CC_0</th>\n",
       "      <td>0.0</td>\n",
       "      <td>0.0</td>\n",
       "      <td>0.0</td>\n",
       "    </tr>\n",
       "    <tr>\n",
       "      <th>CC_1</th>\n",
       "      <td>0.0</td>\n",
       "      <td>0.0</td>\n",
       "      <td>0.0</td>\n",
       "    </tr>\n",
       "    <tr>\n",
       "      <th>CC_2</th>\n",
       "      <td>0.0</td>\n",
       "      <td>0.0</td>\n",
       "      <td>0.0</td>\n",
       "    </tr>\n",
       "    <tr>\n",
       "      <th>CC_3</th>\n",
       "      <td>0.0</td>\n",
       "      <td>0.0</td>\n",
       "      <td>0.0</td>\n",
       "    </tr>\n",
       "    <tr>\n",
       "      <th>CC_4</th>\n",
       "      <td>0.0</td>\n",
       "      <td>0.0</td>\n",
       "      <td>0.0</td>\n",
       "    </tr>\n",
       "  </tbody>\n",
       "</table>\n",
       "</div>"
      ],
      "text/plain": [
       "        0    1    2\n",
       "CC                 \n",
       "CC_0  0.0  0.0  0.0\n",
       "CC_1  0.0  0.0  0.0\n",
       "CC_2  0.0  0.0  0.0\n",
       "CC_3  0.0  0.0  0.0\n",
       "CC_4  0.0  0.0  0.0"
      ]
     },
     "execution_count": 65,
     "metadata": {},
     "output_type": "execute_result"
    }
   ],
   "source": [
    "df_coef_T.head()"
   ]
  },
  {
   "cell_type": "code",
   "execution_count": null,
   "id": "335c3a99-4dd5-44d8-9f76-781d4a556e32",
   "metadata": {},
   "outputs": [],
   "source": [
    "if df_coef_T.sum == 0  "
   ]
  },
  {
   "cell_type": "code",
   "execution_count": 72,
   "id": "5732fd7e-7836-4a52-816d-7699ef85be0f",
   "metadata": {},
   "outputs": [
    {
     "data": {
      "text/html": [
       "<div>\n",
       "<style scoped>\n",
       "    .dataframe tbody tr th:only-of-type {\n",
       "        vertical-align: middle;\n",
       "    }\n",
       "\n",
       "    .dataframe tbody tr th {\n",
       "        vertical-align: top;\n",
       "    }\n",
       "\n",
       "    .dataframe thead th {\n",
       "        text-align: right;\n",
       "    }\n",
       "</style>\n",
       "<table border=\"1\" class=\"dataframe\">\n",
       "  <thead>\n",
       "    <tr style=\"text-align: right;\">\n",
       "      <th></th>\n",
       "      <th>0</th>\n",
       "      <th>1</th>\n",
       "      <th>2</th>\n",
       "    </tr>\n",
       "    <tr>\n",
       "      <th>CC</th>\n",
       "      <th></th>\n",
       "      <th></th>\n",
       "      <th></th>\n",
       "    </tr>\n",
       "  </thead>\n",
       "  <tbody>\n",
       "    <tr>\n",
       "      <th>CC_14</th>\n",
       "      <td>0.0</td>\n",
       "      <td>0.000181</td>\n",
       "      <td>0.000000</td>\n",
       "    </tr>\n",
       "    <tr>\n",
       "      <th>CC_29</th>\n",
       "      <td>0.0</td>\n",
       "      <td>0.029934</td>\n",
       "      <td>-0.000391</td>\n",
       "    </tr>\n",
       "    <tr>\n",
       "      <th>CC_59</th>\n",
       "      <td>0.0</td>\n",
       "      <td>0.005275</td>\n",
       "      <td>0.000000</td>\n",
       "    </tr>\n",
       "    <tr>\n",
       "      <th>CC_151</th>\n",
       "      <td>0.0</td>\n",
       "      <td>0.000003</td>\n",
       "      <td>0.000000</td>\n",
       "    </tr>\n",
       "    <tr>\n",
       "      <th>CC_173</th>\n",
       "      <td>0.0</td>\n",
       "      <td>0.005656</td>\n",
       "      <td>0.000000</td>\n",
       "    </tr>\n",
       "    <tr>\n",
       "      <th>...</th>\n",
       "      <td>...</td>\n",
       "      <td>...</td>\n",
       "      <td>...</td>\n",
       "    </tr>\n",
       "    <tr>\n",
       "      <th>CC_931598</th>\n",
       "      <td>0.0</td>\n",
       "      <td>0.000000</td>\n",
       "      <td>0.001487</td>\n",
       "    </tr>\n",
       "    <tr>\n",
       "      <th>CC_931607</th>\n",
       "      <td>0.0</td>\n",
       "      <td>0.000000</td>\n",
       "      <td>0.000280</td>\n",
       "    </tr>\n",
       "    <tr>\n",
       "      <th>CC_931615</th>\n",
       "      <td>0.0</td>\n",
       "      <td>0.000000</td>\n",
       "      <td>0.000033</td>\n",
       "    </tr>\n",
       "    <tr>\n",
       "      <th>CC_931626</th>\n",
       "      <td>0.0</td>\n",
       "      <td>0.000000</td>\n",
       "      <td>0.000114</td>\n",
       "    </tr>\n",
       "    <tr>\n",
       "      <th>CC_984029</th>\n",
       "      <td>0.0</td>\n",
       "      <td>0.000000</td>\n",
       "      <td>0.010940</td>\n",
       "    </tr>\n",
       "  </tbody>\n",
       "</table>\n",
       "<p>3509 rows × 3 columns</p>\n",
       "</div>"
      ],
      "text/plain": [
       "             0         1         2\n",
       "CC                                \n",
       "CC_14      0.0  0.000181  0.000000\n",
       "CC_29      0.0  0.029934 -0.000391\n",
       "CC_59      0.0  0.005275  0.000000\n",
       "CC_151     0.0  0.000003  0.000000\n",
       "CC_173     0.0  0.005656  0.000000\n",
       "...        ...       ...       ...\n",
       "CC_931598  0.0  0.000000  0.001487\n",
       "CC_931607  0.0  0.000000  0.000280\n",
       "CC_931615  0.0  0.000000  0.000033\n",
       "CC_931626  0.0  0.000000  0.000114\n",
       "CC_984029  0.0  0.000000  0.010940\n",
       "\n",
       "[3509 rows x 3 columns]"
      ]
     },
     "execution_count": 72,
     "metadata": {},
     "output_type": "execute_result"
    }
   ],
   "source": [
    "mask = df_coef_T.sum(axis=1)>0\n",
    "df_coef_T = df_coef_T.loc[mask]\n",
    "df_coef_T"
   ]
  },
  {
   "cell_type": "code",
   "execution_count": 74,
   "id": "b553a171-879b-49a3-8b3d-84b9b2bb850f",
   "metadata": {},
   "outputs": [
    {
     "name": "stdout",
     "output_type": "stream",
     "text": [
      "<class 'pandas.core.frame.DataFrame'>\n",
      "Index: 3509 entries, CC_14 to CC_984029\n",
      "Data columns (total 3 columns):\n",
      "0    3509 non-null float64\n",
      "1    3509 non-null float64\n",
      "2    3509 non-null float64\n",
      "dtypes: float64(3)\n",
      "memory usage: 109.7+ KB\n"
     ]
    }
   ],
   "source": [
    "df_coef_T.info()"
   ]
  },
  {
   "cell_type": "code",
   "execution_count": null,
   "id": "838b680b-4d33-4472-91a0-d4b6acb9c1ef",
   "metadata": {},
   "outputs": [],
   "source": []
  }
 ],
 "metadata": {
  "kernelspec": {
   "display_name": "Python 3",
   "language": "python",
   "name": "python3"
  },
  "language_info": {
   "codemirror_mode": {
    "name": "ipython",
    "version": 3
   },
   "file_extension": ".py",
   "mimetype": "text/x-python",
   "name": "python",
   "nbconvert_exporter": "python",
   "pygments_lexer": "ipython3",
   "version": "3.6.13"
  }
 },
 "nbformat": 4,
 "nbformat_minor": 5
}
